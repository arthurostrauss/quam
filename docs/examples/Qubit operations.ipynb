{
 "cells": [
  {
   "cell_type": "code",
   "execution_count": 1,
   "metadata": {},
   "outputs": [
    {
     "name": "stdout",
     "output_type": "stream",
     "text": [
      "2024-11-27 20:44:26,117 - qm - INFO     - Starting session: 4a68c9e2-51d1-4561-80cf-e16b9e54615c\n"
     ]
    }
   ],
   "source": [
    "from quam.core import OperationsRegistry\n",
    "from quam.components import Qubit, pulses\n",
    "from quam.components.channels import IQChannel\n",
    "from quam.core import quam_dataclass, QuamRoot"
   ]
  },
  {
   "cell_type": "markdown",
   "metadata": {},
   "source": [
    "## Define QUAM components"
   ]
  },
  {
   "cell_type": "code",
   "execution_count": 2,
   "metadata": {},
   "outputs": [],
   "source": [
    "@quam_dataclass\n",
    "class Transmon(Qubit):\n",
    "    xy: IQChannel\n",
    "\n",
    "\n",
    "@quam_dataclass\n",
    "class QUAM(QuamRoot):\n",
    "    qubit: Transmon = None"
   ]
  },
  {
   "cell_type": "markdown",
   "metadata": {},
   "source": [
    "## Create QUAM components"
   ]
  },
  {
   "cell_type": "code",
   "execution_count": 3,
   "metadata": {},
   "outputs": [],
   "source": [
    "machine = QUAM()\n",
    "\n",
    "qubit = machine.qubit = Transmon(\n",
    "    id=\"qubit\",\n",
    "    xy=IQChannel(\n",
    "        opx_output_I=(\"con1\", 1),\n",
    "        opx_output_Q=(\"con1\", 2),\n",
    "        frequency_converter_up=None,\n",
    "    ),\n",
    ")\n",
    "\n",
    "pulse = pulses.SquarePulse(length=100, amplitude=0.1)\n",
    "qubit.xy.operations[\"X\"] = pulse"
   ]
  },
  {
   "cell_type": "code",
   "execution_count": 5,
   "metadata": {},
   "outputs": [
    {
     "ename": "AttributeError",
     "evalue": "'SquarePulse' object has no attribute 'play'",
     "output_type": "error",
     "traceback": [
      "\u001b[0;31m---------------------------------------------------------------------------\u001b[0m",
      "\u001b[0;31mAttributeError\u001b[0m                            Traceback (most recent call last)",
      "Cell \u001b[0;32mIn[5], line 8\u001b[0m\n\u001b[1;32m      6\u001b[0m qubit\u001b[38;5;241m.\u001b[39mimplementations[\u001b[38;5;124m\"\u001b[39m\u001b[38;5;124mX\u001b[39m\u001b[38;5;124m\"\u001b[39m] \u001b[38;5;241m=\u001b[39m PulseGateImplementation(pulse\u001b[38;5;241m=\u001b[39mpulse\u001b[38;5;241m.\u001b[39mget_reference())\n\u001b[1;32m      7\u001b[0m \u001b[38;5;28;01massert\u001b[39;00m qubit\u001b[38;5;241m.\u001b[39mimplementations[\u001b[38;5;124m\"\u001b[39m\u001b[38;5;124mX\u001b[39m\u001b[38;5;124m\"\u001b[39m]\u001b[38;5;241m.\u001b[39mid \u001b[38;5;241m==\u001b[39m \u001b[38;5;124m\"\u001b[39m\u001b[38;5;124mX\u001b[39m\u001b[38;5;124m\"\u001b[39m\n\u001b[0;32m----> 8\u001b[0m \u001b[43mqubit\u001b[49m\u001b[38;5;241;43m.\u001b[39;49m\u001b[43mimplementations\u001b[49m\u001b[43m[\u001b[49m\u001b[38;5;124;43m\"\u001b[39;49m\u001b[38;5;124;43mX\u001b[39;49m\u001b[38;5;124;43m\"\u001b[39;49m\u001b[43m]\u001b[49m\u001b[38;5;241;43m.\u001b[39;49m\u001b[43mapply\u001b[49m\u001b[43m(\u001b[49m\u001b[43m)\u001b[49m\n",
      "File \u001b[0;32m~/Repositories/quam/quam/components/implementations/qubit_implementations.py:39\u001b[0m, in \u001b[0;36mPulseGateImplementation.apply\u001b[0;34m(self, amplitude_scale, duration, **kwargs)\u001b[0m\n\u001b[1;32m     38\u001b[0m \u001b[38;5;28;01mdef\u001b[39;00m \u001b[38;5;21mapply\u001b[39m(\u001b[38;5;28mself\u001b[39m, \u001b[38;5;241m*\u001b[39m, amplitude_scale\u001b[38;5;241m=\u001b[39m\u001b[38;5;28;01mNone\u001b[39;00m, duration\u001b[38;5;241m=\u001b[39m\u001b[38;5;28;01mNone\u001b[39;00m, \u001b[38;5;241m*\u001b[39m\u001b[38;5;241m*\u001b[39mkwargs):\n\u001b[0;32m---> 39\u001b[0m     \u001b[38;5;28;43mself\u001b[39;49m\u001b[38;5;241;43m.\u001b[39;49m\u001b[43mpulse\u001b[49m\u001b[38;5;241;43m.\u001b[39;49m\u001b[43mplay\u001b[49m(amplitude_scale\u001b[38;5;241m=\u001b[39mamplitude_scale, duration\u001b[38;5;241m=\u001b[39mduration, \u001b[38;5;241m*\u001b[39m\u001b[38;5;241m*\u001b[39mkwargs)\n",
      "File \u001b[0;32m~/Repositories/quam/quam/utils/reference_class.py:38\u001b[0m, in \u001b[0;36mReferenceClass.__getattribute__\u001b[0;34m(self, attr)\u001b[0m\n\u001b[1;32m     37\u001b[0m \u001b[38;5;28;01mdef\u001b[39;00m \u001b[38;5;21m__getattribute__\u001b[39m(\u001b[38;5;28mself\u001b[39m, attr: \u001b[38;5;28mstr\u001b[39m) \u001b[38;5;241m-\u001b[39m\u001b[38;5;241m>\u001b[39m Any:\n\u001b[0;32m---> 38\u001b[0m     attr_val \u001b[38;5;241m=\u001b[39m \u001b[38;5;28;43msuper\u001b[39;49m\u001b[43m(\u001b[49m\u001b[43m)\u001b[49m\u001b[38;5;241;43m.\u001b[39;49m\u001b[38;5;21;43m__getattribute__\u001b[39;49m\u001b[43m(\u001b[49m\u001b[43mattr\u001b[49m\u001b[43m)\u001b[49m\n\u001b[1;32m     40\u001b[0m     \u001b[38;5;28;01mif\u001b[39;00m attr \u001b[38;5;129;01min\u001b[39;00m [\u001b[38;5;124m\"\u001b[39m\u001b[38;5;124m_is_reference\u001b[39m\u001b[38;5;124m\"\u001b[39m, \u001b[38;5;124m\"\u001b[39m\u001b[38;5;124m_get_referenced_value\u001b[39m\u001b[38;5;124m\"\u001b[39m, \u001b[38;5;124m\"\u001b[39m\u001b[38;5;124m__post_init__\u001b[39m\u001b[38;5;124m\"\u001b[39m]:\n\u001b[1;32m     41\u001b[0m         \u001b[38;5;28;01mreturn\u001b[39;00m attr_val\n",
      "\u001b[0;31mAttributeError\u001b[0m: 'SquarePulse' object has no attribute 'play'"
     ]
    }
   ],
   "source": [
    "from quam.components.implementations.qubit_implementations import PulseGateImplementation\n",
    "\n",
    "\n",
    "qubit = Qubit(id=\"qubit\")\n",
    "\n",
    "qubit.implementations[\"X\"] = PulseGateImplementation(pulse=pulse.get_reference())\n",
    "assert qubit.implementations[\"X\"].id == \"X\"\n",
    "qubit.implementations[\"X\"].apply()\n"
   ]
  },
  {
   "cell_type": "code",
   "execution_count": null,
   "metadata": {},
   "outputs": [],
   "source": []
  }
 ],
 "metadata": {
  "kernelspec": {
   "display_name": ".venv",
   "language": "python",
   "name": "python3"
  },
  "language_info": {
   "codemirror_mode": {
    "name": "ipython",
    "version": 3
   },
   "file_extension": ".py",
   "mimetype": "text/x-python",
   "name": "python",
   "nbconvert_exporter": "python",
   "pygments_lexer": "ipython3",
   "version": "3.11.9"
  }
 },
 "nbformat": 4,
 "nbformat_minor": 2
}
