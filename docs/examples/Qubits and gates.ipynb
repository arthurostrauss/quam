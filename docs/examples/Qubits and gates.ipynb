{
 "cells": [
  {
   "cell_type": "code",
   "execution_count": 27,
   "metadata": {},
   "outputs": [],
   "source": [
    "from typing import Dict, Tuple\n",
    "from dataclasses import field\n",
    "from quam.core import QuamRoot, quam_dataclass\n",
    "from quam.components.quantum_components import Qubit, QubitPair\n",
    "from quam.components import IQChannel\n",
    "\n",
    "@quam_dataclass\n",
    "class Transmon(Qubit):\n",
    "    xy: IQChannel = field(default=None)\n",
    "\n",
    "\n",
    "@quam_dataclass\n",
    "class QUAM(QuamRoot):\n",
    "    qubits: Dict[str, Qubit] = field(default_factory=dict)\n",
    "    qubit_pairs: Dict[Tuple[str, str], QubitPair] = field(default_factory=dict)"
   ]
  },
  {
   "cell_type": "markdown",
   "metadata": {},
   "source": [
    "## Instantiate QUAM"
   ]
  },
  {
   "cell_type": "code",
   "execution_count": 29,
   "metadata": {},
   "outputs": [],
   "source": [
    "machine = QUAM()\n",
    "\n",
    "## Add qubits\n",
    "q0 = machine.qubits[\"q0\"] = Transmon(id=\"q0\", xy=IQChannel(opx_output_I=(\"con1\", 1, 1), opx_output_Q=(\"con1\", 1, 2), frequency_converter_up=None))\n",
    "q1 = machine.qubits[\"q1\"] = Transmon(id=\"q1\")\n",
    "\n",
    "## Add qubit pairs\n",
    "machine.qubit_pairs[\"q0@q1\"] = QubitPair(qubit_control=q0.get_reference(), qubit_target=q1.get_reference())\n"
   ]
  },
  {
   "cell_type": "markdown",
   "metadata": {},
   "source": [
    "Access qubit pair"
   ]
  },
  {
   "cell_type": "code",
   "execution_count": 12,
   "metadata": {},
   "outputs": [
    {
     "data": {
      "text/plain": [
       "QubitPair(id='q0@q1', macros={}, qubit_control=Transmon(id='q0', macros={}), qubit_target=Transmon(id='q1', macros={}))"
      ]
     },
     "execution_count": 12,
     "metadata": {},
     "output_type": "execute_result"
    }
   ],
   "source": [
    "q0 @ q1"
   ]
  },
  {
   "cell_type": "markdown",
   "metadata": {},
   "source": [
    "Add pulse and pulse macro to qubit"
   ]
  },
  {
   "cell_type": "code",
   "execution_count": 20,
   "metadata": {},
   "outputs": [],
   "source": [
    "from quam.components.pulses import SquarePulse\n",
    "from quam.components.macro import PulseMacro\n",
    "\n",
    "q0.xy.operations[\"x180\"] = SquarePulse(amplitude=0.1, length=100)\n",
    "q0.macros[\"x180\"] = PulseMacro(pulse=q0.xy.operations[\"x180\"].get_reference())"
   ]
  },
  {
   "cell_type": "code",
   "execution_count": 24,
   "metadata": {},
   "outputs": [
    {
     "name": "stdout",
     "output_type": "stream",
     "text": [
      "\n",
      "# Single QUA script generated at 2025-01-28 20:38:08.437463\n",
      "# QUA library version: 1.2.1\n",
      "\n",
      "from qm import CompilerOptionArguments\n",
      "from qm.qua import *\n",
      "\n",
      "with program() as prog:\n",
      "    play(\"x180\", \"q0.xy\")\n",
      "\n",
      "\n",
      "config = None\n",
      "\n",
      "loaded_config = None\n",
      "\n",
      "\n"
     ]
    }
   ],
   "source": [
    "from qm.qua import program\n",
    "from qm import generate_qua_script, qua\n",
    "\n",
    "with qua.program() as prog:\n",
    "    q0.apply(\"x180\")\n",
    "\n",
    "print(generate_qua_script(prog))"
   ]
  },
  {
   "cell_type": "markdown",
   "metadata": {},
   "source": [
    "## Creating operations"
   ]
  },
  {
   "cell_type": "code",
   "execution_count": 25,
   "metadata": {},
   "outputs": [],
   "source": [
    "from quam.core.operation import OperationsRegistry\n",
    "\n",
    "operations_registry = OperationsRegistry()\n",
    "\n",
    "@operations_registry.register_operation\n",
    "def x180(qubit: Qubit, **kwargs):\n",
    "    qubit.xy.operations[\"x180\"].play(**kwargs)"
   ]
  },
  {
   "cell_type": "code",
   "execution_count": 26,
   "metadata": {},
   "outputs": [
    {
     "name": "stdout",
     "output_type": "stream",
     "text": [
      "\n",
      "# Single QUA script generated at 2025-01-28 20:40:16.420682\n",
      "# QUA library version: 1.2.1\n",
      "\n",
      "from qm import CompilerOptionArguments\n",
      "from qm.qua import *\n",
      "\n",
      "with program() as prog:\n",
      "    play(\"x180\", \"q0.xy\")\n",
      "\n",
      "\n",
      "config = None\n",
      "\n",
      "loaded_config = None\n",
      "\n",
      "\n"
     ]
    }
   ],
   "source": [
    "with qua.program() as prog:\n",
    "    x180(q0)\n",
    "\n",
    "print(generate_qua_script(prog))"
   ]
  },
  {
   "cell_type": "code",
   "execution_count": null,
   "metadata": {},
   "outputs": [],
   "source": [
    "from quam.core import quam_dataclass\n",
    "from quam.core.macro import QuamMacro\n",
    "\n",
    "@quam_dataclass\n",
    "class CliffordMacro(QuamMacro):\n",
    "    def apply(self, qubit: Qubit, clifford_idx: int, **kwargs):\n",
    "        if clifford_idx == 0:\n",
    "            qubit.apply(\"x180\")\n",
    "        elif clifford_idx == 1:\n",
    "            qubit.apply(\"y180\")\n",
    "        elif clifford_idx == 2:\n",
    "            qubit.apply(\"x90\")\n",
    "        elif clifford_idx == 3:\n",
    "            qubit.apply(\"x270\")\n",
    "        ..."
   ]
  }
 ],
 "metadata": {
  "kernelspec": {
   "display_name": ".venv",
   "language": "python",
   "name": "python3"
  },
  "language_info": {
   "codemirror_mode": {
    "name": "ipython",
    "version": 3
   },
   "file_extension": ".py",
   "mimetype": "text/x-python",
   "name": "python",
   "nbconvert_exporter": "python",
   "pygments_lexer": "ipython3",
   "version": "3.11.11"
  }
 },
 "nbformat": 4,
 "nbformat_minor": 2
}
