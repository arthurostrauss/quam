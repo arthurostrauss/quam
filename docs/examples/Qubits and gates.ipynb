{
 "cells": [
  {
   "cell_type": "markdown",
   "metadata": {},
   "source": [
    "## Qubits and Gates"
   ]
  },
  {
   "cell_type": "markdown",
   "metadata": {
    "lines_to_next_cell": 2
   },
   "source": [
    "In this guide, we will explore high-level components: qubits, qubit pairs, and circuit-level operations.\n",
    "These high-level components can be used to write QUA programs at a circuit level.\n",
    "At the end of this tutorial, it is possible to create the following circuit-level program:\n",
    "\n",
    "```python\n",
    "with program() as prog:\n",
    "    x180(q1)\n",
    "    clifford(q1, 4)\n",
    "    qubit_state = measure(q1)\n",
    "```\n",
    "\n",
    "The tutorial is structured as follows:\n",
    "- Define a QUAM qubit class\n",
    "- Instantiate a QUAM state using the newly-defined qubits\n",
    "- Registering a qubit pulse macro: `x180`\n",
    "- Creating custom qubit macros\n",
    "  - `measure` macro\n",
    "  - `clifford` macro"
   ]
  },
  {
   "cell_type": "markdown",
   "metadata": {},
   "source": [
    "## Defining a Qubit-Level Component"
   ]
  },
  {
   "cell_type": "markdown",
   "metadata": {},
   "source": [
    "First we will define "
   ]
  },
  {
   "cell_type": "code",
   "execution_count": 1,
   "metadata": {},
   "outputs": [
    {
     "name": "stdout",
     "output_type": "stream",
     "text": [
      "2025-03-28 14:27:57,086 - qm - INFO     - Starting session: b6c337e3-4353-47ff-82bb-3bb999b0a9e1\n"
     ]
    }
   ],
   "source": [
    "from typing import Dict, Optional\n",
    "import numpy as np\n",
    "from dataclasses import field\n",
    "\n",
    "from quam.components.ports import FEMPortsContainer\n",
    "from quam.core import QuamRoot, quam_dataclass\n",
    "from quam.components.quantum_components import Qubit, QubitPair\n",
    "from quam.components import MWChannel, InOutMWChannel, pulses\n",
    "\n",
    "\n",
    "@quam_dataclass\n",
    "class Transmon(Qubit):\n",
    "    xy: MWChannel\n",
    "    resonator: Optional[InOutMWChannel] = None\n",
    "\n",
    "\n",
    "@quam_dataclass\n",
    "class Quam(QuamRoot):\n",
    "    ports: FEMPortsContainer\n",
    "    qubits: Dict[str, Qubit] = field(default_factory=dict)\n",
    "    qubit_pairs: Dict[str, QubitPair] = field(default_factory=dict)"
   ]
  },
  {
   "cell_type": "markdown",
   "metadata": {},
   "source": [
    "## Instantiate QUAM"
   ]
  },
  {
   "cell_type": "code",
   "execution_count": 2,
   "metadata": {},
   "outputs": [],
   "source": [
    "machine = Quam(ports=FEMPortsContainer())\n",
    "\n",
    "## Add qubits\n",
    "q1_xy_port = machine.ports.get_mw_output(\"con1\", 1, 1, create=True)\n",
    "q1_resonator_out_port = machine.ports.get_mw_output(\"con1\", 1, 2, create=True)\n",
    "q1_resonator_in_port = machine.ports.get_mw_input(\"con1\", 1, 2, create=True)\n",
    "q1 = machine.qubits[\"q1\"] = Transmon(\n",
    "    id=\"q1\",\n",
    "    xy=MWChannel(intermediate_frequency=100e6, opx_output=q1_xy_port.get_reference()),\n",
    "    resonator=InOutMWChannel(\n",
    "        intermediate_frequency=100e6,\n",
    "        opx_output=q1_resonator_out_port.get_reference(),\n",
    "        opx_input=q1_resonator_in_port.get_reference(),\n",
    "    ),\n",
    ")\n",
    "\n",
    "q2_xy_mw_output = machine.ports.get_mw_output(\"con1\", 1, 2, create=True)\n",
    "q2 = machine.qubits[\"q2\"] = Transmon(\n",
    "    id=\"q2\",\n",
    "    xy=MWChannel(\n",
    "        intermediate_frequency=100e6, opx_output=q2_xy_mw_output.get_reference()\n",
    "    ),\n",
    ")\n",
    "\n",
    "\n",
    "## Add qubit pairs\n",
    "machine.qubit_pairs[\"q1@q2\"] = QubitPair(\n",
    "    qubit_control=q1.get_reference(), qubit_target=q2.get_reference()\n",
    ")"
   ]
  },
  {
   "cell_type": "markdown",
   "id": "f9643f15",
   "metadata": {},
   "source": [
    "Access qubit pair"
   ]
  },
  {
   "cell_type": "code",
   "execution_count": 3,
   "id": "69a6adbd",
   "metadata": {},
   "outputs": [
    {
     "data": {
      "text/plain": [
       "Transmon(id='q1', macros={}, xy=MWChannel(operations={}, id=None, digital_outputs={}, sticky=None, intermediate_frequency=100000000.0, thread=None, core=None, LO_frequency=5000000000.0, RF_frequency=5100000000.0, opx_output=MWFEMAnalogOutputPort(controller_id='con1', fem_id=1, port_id=1, band=1, upconverter_frequency=5000000000.0, upconverters=None, delay=0, shareable=False, sampling_rate=1000000000.0, full_scale_power_dbm=-11), upconverter=1), resonator=InOutMWChannel(operations={}, id=None, digital_outputs={}, sticky=None, intermediate_frequency=100000000.0, thread=None, core=None, opx_input=MWFEMAnalogInputPort(controller_id='con1', fem_id=1, port_id=2, band=1, downconverter_frequency=5000000000.0, gain_db=None, sampling_rate=1000000000.0, shareable=False), time_of_flight=24, smearing=0, LO_frequency=5000000000.0, RF_frequency=5100000000.0, opx_output=MWFEMAnalogOutputPort(controller_id='con1', fem_id=1, port_id=2, band=1, upconverter_frequency=5000000000.0, upconverters=None, delay=0, shareable=False, sampling_rate=1000000000.0, full_scale_power_dbm=-11), upconverter=1))"
      ]
     },
     "execution_count": 3,
     "metadata": {},
     "output_type": "execute_result"
    }
   ],
   "source": [
    "q1"
   ]
  },
  {
   "cell_type": "code",
   "execution_count": 4,
   "id": "ced3811d",
   "metadata": {},
   "outputs": [
    {
     "data": {
      "text/plain": [
       "QubitPair(id='q1@q2', macros={}, qubit_control=Transmon(id='q1', macros={}, xy=MWChannel(operations={}, id=None, digital_outputs={}, sticky=None, intermediate_frequency=100000000.0, thread=None, core=None, LO_frequency=5000000000.0, RF_frequency=5100000000.0, opx_output=MWFEMAnalogOutputPort(controller_id='con1', fem_id=1, port_id=1, band=1, upconverter_frequency=5000000000.0, upconverters=None, delay=0, shareable=False, sampling_rate=1000000000.0, full_scale_power_dbm=-11), upconverter=1), resonator=InOutMWChannel(operations={}, id=None, digital_outputs={}, sticky=None, intermediate_frequency=100000000.0, thread=None, core=None, opx_input=MWFEMAnalogInputPort(controller_id='con1', fem_id=1, port_id=2, band=1, downconverter_frequency=5000000000.0, gain_db=None, sampling_rate=1000000000.0, shareable=False), time_of_flight=24, smearing=0, LO_frequency=5000000000.0, RF_frequency=5100000000.0, opx_output=MWFEMAnalogOutputPort(controller_id='con1', fem_id=1, port_id=2, band=1, upconverter_frequency=5000000000.0, upconverters=None, delay=0, shareable=False, sampling_rate=1000000000.0, full_scale_power_dbm=-11), upconverter=1)), qubit_target=Transmon(id='q2', macros={}, xy=MWChannel(operations={}, id=None, digital_outputs={}, sticky=None, intermediate_frequency=100000000.0, thread=None, core=None, LO_frequency=5000000000.0, RF_frequency=5100000000.0, opx_output=MWFEMAnalogOutputPort(controller_id='con1', fem_id=1, port_id=2, band=1, upconverter_frequency=5000000000.0, upconverters=None, delay=0, shareable=False, sampling_rate=1000000000.0, full_scale_power_dbm=-11), upconverter=1), resonator=None))"
      ]
     },
     "execution_count": 4,
     "metadata": {},
     "output_type": "execute_result"
    }
   ],
   "source": [
    "q1 @ q2"
   ]
  },
  {
   "cell_type": "markdown",
   "id": "f87d0e03",
   "metadata": {},
   "source": [
    "Add pulse and pulse macro to qubit"
   ]
  },
  {
   "cell_type": "markdown",
   "id": "6060f96d",
   "metadata": {},
   "source": [
    "## Applying a qubit macro"
   ]
  },
  {
   "cell_type": "code",
   "execution_count": 5,
   "id": "f17828c3",
   "metadata": {},
   "outputs": [],
   "source": [
    "from quam.components.macro import PulseMacro\n",
    "\n",
    "q1.xy.operations[\"x180\"] = pulses.SquarePulse(amplitude=0.2, length=100)\n",
    "q1.macros[\"x180\"] = PulseMacro(pulse=q1.xy.operations[\"x180\"].get_reference())"
   ]
  },
  {
   "cell_type": "code",
   "execution_count": 6,
   "id": "b7249ed1",
   "metadata": {},
   "outputs": [
    {
     "name": "stdout",
     "output_type": "stream",
     "text": [
      "\n",
      "# Single QUA script generated at 2025-03-28 14:27:57.178879\n",
      "# QUA library version: 1.2.2a4\n",
      "\n",
      "from qm import CompilerOptionArguments\n",
      "from qm.qua import *\n",
      "\n",
      "with program() as prog:\n",
      "    play(\"x180\", \"q1.xy\")\n",
      "\n",
      "\n",
      "config = None\n",
      "\n",
      "loaded_config = None\n",
      "\n",
      "\n"
     ]
    }
   ],
   "source": [
    "from qm import generate_qua_script, qua\n",
    "\n",
    "with qua.program() as prog:\n",
    "    q1.apply(\"x180\")\n",
    "\n",
    "print(generate_qua_script(prog))"
   ]
  },
  {
   "cell_type": "markdown",
   "metadata": {},
   "source": [
    "## Creating operations"
   ]
  },
  {
   "cell_type": "code",
   "execution_count": 7,
   "id": "42a8d613",
   "metadata": {},
   "outputs": [],
   "source": [
    "from quam.core.operation import OperationsRegistry\n",
    "\n",
    "operations_registry = OperationsRegistry()\n",
    "\n",
    "\n",
    "@operations_registry.register_operation\n",
    "def x180(qubit: Qubit, **kwargs):\n",
    "    pass"
   ]
  },
  {
   "cell_type": "code",
   "execution_count": 8,
   "id": "c481a483",
   "metadata": {},
   "outputs": [
    {
     "name": "stdout",
     "output_type": "stream",
     "text": [
      "\n",
      "# Single QUA script generated at 2025-03-28 14:27:57.191088\n",
      "# QUA library version: 1.2.2a4\n",
      "\n",
      "from qm import CompilerOptionArguments\n",
      "from qm.qua import *\n",
      "\n",
      "with program() as prog:\n",
      "    play(\"x180\", \"q1.xy\")\n",
      "\n",
      "\n",
      "config = None\n",
      "\n",
      "loaded_config = None\n",
      "\n",
      "\n"
     ]
    }
   ],
   "source": [
    "with qua.program() as prog:\n",
    "    x180(q1)\n",
    "\n",
    "print(generate_qua_script(prog))"
   ]
  },
  {
   "cell_type": "markdown",
   "metadata": {},
   "source": [
    "## Creating custom macros"
   ]
  },
  {
   "cell_type": "markdown",
   "id": "56dd5f9c",
   "metadata": {},
   "source": [
    "### Measure macro"
   ]
  },
  {
   "cell_type": "code",
   "execution_count": 9,
   "metadata": {},
   "outputs": [],
   "source": [
    "from quam.components.macro import QubitMacro\n",
    "from quam.core import quam_dataclass\n",
    "\n",
    "# If using qm-qua >=1.2.2, you can replace this with `from qm.qua.type_hints import QuaVariable; QuaVariable[bool]`\n",
    "from quam.utils.qua_types import QuaVariableBool\n",
    "\n",
    "\n",
    "@quam_dataclass\n",
    "class MeasureMacro(QubitMacro):\n",
    "    def apply(self, **kwargs) -> QuaVariableBool:\n",
    "        I, Q = self.qubit.resonator.measure(\"readout\")\n",
    "        qubit_state = qua.declare(bool)\n",
    "        qua.assign(\n",
    "            qubit_state, I > self.qubit.resonator.operations[\"readout\"].threshold\n",
    "        )\n",
    "        # is_excited = qua.declare(bool, I > self.qubit.xy.operations[\"readout\"].threshold)\n",
    "        return qubit_state"
   ]
  },
  {
   "cell_type": "code",
   "execution_count": 10,
   "metadata": {},
   "outputs": [],
   "source": [
    "q1.resonator.operations[\"readout\"] = pulses.SquareReadoutPulse(\n",
    "    length=1000, amplitude=0.1, threshold=0.215\n",
    ")\n",
    "q1.macros[\"measure\"] = MeasureMacro()"
   ]
  },
  {
   "cell_type": "code",
   "execution_count": 11,
   "metadata": {
    "lines_to_next_cell": 2
   },
   "outputs": [
    {
     "name": "stdout",
     "output_type": "stream",
     "text": [
      "\n",
      "# Single QUA script generated at 2025-03-28 14:27:57.212917\n",
      "# QUA library version: 1.2.2a4\n",
      "\n",
      "from qm import CompilerOptionArguments\n",
      "from qm.qua import *\n",
      "\n",
      "with program() as prog:\n",
      "    v1 = declare(fixed, )\n",
      "    v2 = declare(fixed, )\n",
      "    v3 = declare(bool, )\n",
      "    measure(\"readout\", \"q1.resonator\", dual_demod.full(\"iw1\", \"iw2\", v1), dual_demod.full(\"iw3\", \"iw1\", v2))\n",
      "    assign(v3, (v1>0.215))\n",
      "\n",
      "\n",
      "config = None\n",
      "\n",
      "loaded_config = None\n",
      "\n",
      "\n"
     ]
    }
   ],
   "source": [
    "with qua.program() as prog:\n",
    "    qubit_state = q1.apply(\"measure\")\n",
    "\n",
    "print(generate_qua_script(prog))\n"
   ]
  },
  {
   "cell_type": "code",
   "execution_count": 12,
   "metadata": {},
   "outputs": [],
   "source": [
    "@operations_registry.register_operation\n",
    "def measure(qubit: Qubit, **kwargs) -> QuaVariableBool:\n",
    "    pass"
   ]
  },
  {
   "cell_type": "code",
   "execution_count": 13,
   "id": "ace53838",
   "metadata": {},
   "outputs": [
    {
     "name": "stdout",
     "output_type": "stream",
     "text": [
      "\n",
      "# Single QUA script generated at 2025-03-28 14:27:57.225001\n",
      "# QUA library version: 1.2.2a4\n",
      "\n",
      "from qm import CompilerOptionArguments\n",
      "from qm.qua import *\n",
      "\n",
      "with program() as prog:\n",
      "    v1 = declare(fixed, )\n",
      "    v2 = declare(fixed, )\n",
      "    v3 = declare(bool, )\n",
      "    measure(\"readout\", \"q1.resonator\", dual_demod.full(\"iw1\", \"iw2\", v1), dual_demod.full(\"iw3\", \"iw1\", v2))\n",
      "    assign(v3, (v1>0.215))\n",
      "\n",
      "\n",
      "config = None\n",
      "\n",
      "loaded_config = None\n",
      "\n",
      "\n"
     ]
    }
   ],
   "source": [
    "with qua.program() as prog:\n",
    "    qubit_state = measure(q1)\n",
    "\n",
    "print(generate_qua_script(prog))\n"
   ]
  },
  {
   "cell_type": "markdown",
   "id": "9c053dae",
   "metadata": {},
   "source": [
    "### Clifford macro"
   ]
  },
  {
   "cell_type": "code",
   "execution_count": 14,
   "metadata": {},
   "outputs": [],
   "source": [
    "\n",
    "\n",
    "@quam_dataclass\n",
    "class CliffordMacro(QubitMacro):\n",
    "    def apply(self, clifford_idx: int, **kwargs):\n",
    "        with qua.switch_(clifford_idx, unsafe=True):\n",
    "            with qua.case_(0):\n",
    "                wait_duration = self.qubit.xy.operations[\"x180\"].length // 4\n",
    "                self.qubit.xy.wait(wait_duration)\n",
    "            with qua.case_(1):\n",
    "                self.qubit.xy.play(\"x180\")\n",
    "            with qua.case_(2):\n",
    "                self.qubit.xy.play(\"y180\")\n",
    "            with qua.case_(3):\n",
    "                self.qubit.xy.play(\"y180\")\n",
    "                self.qubit.xy.play(\"x180\")\n",
    "            with qua.case_(4):\n",
    "                self.qubit.xy.play(\"x90\")\n",
    "                self.qubit.xy.play(\"y90\")\n",
    "            ..."
   ]
  },
  {
   "cell_type": "code",
   "execution_count": 15,
   "id": "e343dade",
   "metadata": {},
   "outputs": [],
   "source": [
    "q1.xy.operations[\"x90\"] = pulses.SquarePulse(amplitude=0.1, length=100, axis_angle=0)\n",
    "q1.xy.operations[\"x180\"] = pulses.SquarePulse(amplitude=0.2, length=100, axis_angle=0)\n",
    "q1.xy.operations[\"y90\"] = pulses.SquarePulse(\n",
    "    amplitude=0.1, length=100, axis_angle=np.pi / 2\n",
    ")\n",
    "q1.xy.operations[\"y180\"] = pulses.SquarePulse(\n",
    "    amplitude=0.2, length=100, axis_angle=np.pi / 2\n",
    ")\n",
    "\n",
    "q1.macros[\"clifford\"] = CliffordMacro()"
   ]
  },
  {
   "cell_type": "code",
   "execution_count": 16,
   "id": "f7e016e5",
   "metadata": {
    "lines_to_end_of_cell_marker": 2,
    "lines_to_next_cell": 2
   },
   "outputs": [
    {
     "name": "stdout",
     "output_type": "stream",
     "text": [
      "\n",
      "# Single QUA script generated at 2025-03-28 14:27:57.253948\n",
      "# QUA library version: 1.2.2a4\n",
      "\n",
      "from qm import CompilerOptionArguments\n",
      "from qm.qua import *\n",
      "\n",
      "with program() as prog:\n",
      "    v1 = declare(int, value=0)\n",
      "    with if_((v1==0), unsafe=True):\n",
      "        wait(25, \"q1.xy\")\n",
      "    with elif_((v1==1)):\n",
      "        play(\"x180\", \"q1.xy\")\n",
      "    with elif_((v1==2)):\n",
      "        play(\"y180\", \"q1.xy\")\n",
      "    with elif_((v1==3)):\n",
      "        play(\"y180\", \"q1.xy\")\n",
      "        play(\"x180\", \"q1.xy\")\n",
      "    with elif_((v1==4)):\n",
      "        play(\"x90\", \"q1.xy\")\n",
      "        play(\"y90\", \"q1.xy\")\n",
      "\n",
      "\n",
      "config = None\n",
      "\n",
      "loaded_config = None\n",
      "\n",
      "\n"
     ]
    }
   ],
   "source": [
    "with qua.program() as prog:\n",
    "    clifford_idx = qua.declare(int, 0)\n",
    "    q1.apply(\"clifford\", clifford_idx)\n",
    "\n",
    "print(generate_qua_script(prog))"
   ]
  },
  {
   "cell_type": "code",
   "execution_count": 17,
   "id": "cfb0f4a2",
   "metadata": {},
   "outputs": [],
   "source": [
    "@operations_registry.register_operation\n",
    "def clifford(qubit: Qubit, clifford_idx: int, **kwargs):\n",
    "    pass"
   ]
  },
  {
   "cell_type": "code",
   "execution_count": 18,
   "id": "c362d545",
   "metadata": {},
   "outputs": [
    {
     "name": "stdout",
     "output_type": "stream",
     "text": [
      "\n",
      "# Single QUA script generated at 2025-03-28 14:27:57.277819\n",
      "# QUA library version: 1.2.2a4\n",
      "\n",
      "from qm import CompilerOptionArguments\n",
      "from qm.qua import *\n",
      "\n",
      "with program() as prog:\n",
      "    v1 = declare(int, value=0)\n",
      "    with if_((v1==0), unsafe=True):\n",
      "        wait(25, \"q1.xy\")\n",
      "    with elif_((v1==1)):\n",
      "        play(\"x180\", \"q1.xy\")\n",
      "    with elif_((v1==2)):\n",
      "        play(\"y180\", \"q1.xy\")\n",
      "    with elif_((v1==3)):\n",
      "        play(\"y180\", \"q1.xy\")\n",
      "        play(\"x180\", \"q1.xy\")\n",
      "    with elif_((v1==4)):\n",
      "        play(\"x90\", \"q1.xy\")\n",
      "        play(\"y90\", \"q1.xy\")\n",
      "\n",
      "\n",
      "config = None\n",
      "\n",
      "loaded_config = None\n",
      "\n",
      "\n"
     ]
    }
   ],
   "source": [
    "with qua.program() as prog:\n",
    "    clifford_idx = qua.declare(int, 0)\n",
    "    clifford(q1, clifford_idx)\n",
    "\n",
    "print(generate_qua_script(prog))"
   ]
  }
 ],
 "metadata": {
  "jupytext": {
   "formats": "ipynb,py"
  },
  "kernelspec": {
   "display_name": ".venv",
   "language": "python",
   "name": "python3"
  },
  "language_info": {
   "codemirror_mode": {
    "name": "ipython",
    "version": 3
   },
   "file_extension": ".py",
   "mimetype": "text/x-python",
   "name": "python",
   "nbconvert_exporter": "python",
   "pygments_lexer": "ipython3",
   "version": "3.11.11"
  }
 },
 "nbformat": 4,
 "nbformat_minor": 2
}
