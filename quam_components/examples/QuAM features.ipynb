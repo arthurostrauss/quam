{
 "cells": [
  {
   "cell_type": "code",
   "execution_count": 13,
   "metadata": {},
   "outputs": [],
   "source": [
    "import json\n",
    "from quam_components.components import *\n",
    "\n",
    "from pathlib import Path\n",
    "root_folder = Path(\"./output\")\n",
    "root_folder.mkdir(exist_ok=True)\n",
    "for key in [\"basic\", \"referenced\", \"referenced_multifile\"]:\n",
    "    (root_folder / key).mkdir(exist_ok=True)"
   ]
  },
  {
   "cell_type": "markdown",
   "metadata": {},
   "source": [
    "# Creating QuAM from scratch"
   ]
  },
  {
   "cell_type": "markdown",
   "metadata": {},
   "source": [
    "The user defines his own QuAM by inheriting from `QuamRoot` (see `components/quam.py`).\n",
    "Once defined, it can be instantiated as follows:"
   ]
  },
  {
   "cell_type": "code",
   "execution_count": 14,
   "metadata": {},
   "outputs": [
    {
     "data": {
      "text/plain": [
       "QuAM(mixers=[], qubits=[], resonators=[], local_oscillators=[], analog_inputs=[], wiring=QuamDictComponent())"
      ]
     },
     "execution_count": 14,
     "metadata": {},
     "output_type": "execute_result"
    }
   ],
   "source": [
    "quam = QuAM()\n",
    "quam"
   ]
  },
  {
   "cell_type": "markdown",
   "metadata": {},
   "source": [
    "We see that five attributes are defined in quam, all empty so far. We can begin populating it with different `QuamComponent`s"
   ]
  },
  {
   "cell_type": "code",
   "execution_count": 15,
   "metadata": {},
   "outputs": [
    {
     "data": {
      "text/plain": [
       "QuAM(mixers=[], qubits=[Transmon(id=0, frequency_01=None, xy=XYChannel(mixer=Mixer(id='mixer_q0', local_oscillator=LocalOscillator(power=10, frequency=6000000000.0), port_I=1, port_Q=2, frequency_drive=5000000000.0, offset_I=0, offset_Q=0, correction_gain=0, correction_phase=0, controller='con1'), pi_amp=0.01, pi_length=40, anharmonicity=200000000.0, pulses=['Xm90', 'X90', 'X180', 'Ym90', 'Y90', 'Y180'], drag_coefficient=0, ac_stark_detuning=0, qubit=...), z=ZChannel(port=5, z_max_frequency_point=None, pulses=['const_flux'], pulse_length=None, pulse_amplitude=None, filter_fir_taps=None, filter_iir_taps=None, offset=0, controller='con1', qubit=...)), Transmon(id=1, frequency_01=None, xy=XYChannel(mixer=Mixer(id='mixer_q1', local_oscillator=LocalOscillator(power=10, frequency=6000000000.0), port_I=1, port_Q=2, frequency_drive=5000000000.0, offset_I=0, offset_Q=0, correction_gain=0, correction_phase=0, controller='con1'), pi_amp=0.01, pi_length=40, anharmonicity=200000000.0, pulses=['Xm90', 'X90', 'X180', 'Ym90', 'Y90', 'Y180'], drag_coefficient=0, ac_stark_detuning=0, qubit=...), z=ZChannel(port=5, z_max_frequency_point=None, pulses=['const_flux'], pulse_length=None, pulse_amplitude=None, filter_fir_taps=None, filter_iir_taps=None, offset=0, controller='con1', qubit=...))], resonators=[ReadoutResonator(id=0, mixer=Mixer(id='mixer_r0', local_oscillator=LocalOscillator(power=10, frequency=6000000000.0), port_I=3, port_Q=4, frequency_drive=5000000000.0, offset_I=0, offset_Q=0, correction_gain=0, correction_phase=0, controller='con1'), readout_length=None, readout_amplitude=None, frequency_opt=None, frequency_res=None, time_of_flight=24, smearing=0, rotation_angle=None, controller='con1'), ReadoutResonator(id=1, mixer=Mixer(id='mixer_r1', local_oscillator=LocalOscillator(power=10, frequency=6000000000.0), port_I=3, port_Q=4, frequency_drive=5000000000.0, offset_I=0, offset_Q=0, correction_gain=0, correction_phase=0, controller='con1'), readout_length=None, readout_amplitude=None, frequency_opt=None, frequency_res=None, time_of_flight=24, smearing=0, rotation_angle=None, controller='con1')], local_oscillators=[LocalOscillator(power=10, frequency=6000000000.0), LocalOscillator(power=10, frequency=6000000000.0), LocalOscillator(power=10, frequency=6000000000.0), LocalOscillator(power=10, frequency=6000000000.0)], analog_inputs=[AnalogInput(port=1, offset=0, gain=0, controller='con1'), AnalogInput(port=2, offset=0, gain=0, controller='con1')], wiring=QuamDictComponent())"
      ]
     },
     "execution_count": 15,
     "metadata": {},
     "output_type": "execute_result"
    }
   ],
   "source": [
    "num_qubits = 2\n",
    "for idx in range(num_qubits):\n",
    "    # Create qubit components\n",
    "    local_oscillator_qubit = LocalOscillator(power=10, frequency=6e9)\n",
    "    quam.local_oscillators.append(local_oscillator_qubit)\n",
    "\n",
    "    mixer_qubit = Mixer(\n",
    "        id=f\"mixer_q{idx}\",\n",
    "        local_oscillator=local_oscillator_qubit,\n",
    "        port_I=1,\n",
    "        port_Q=2,\n",
    "        frequency_drive=5e9,\n",
    "    )\n",
    "\n",
    "    transmon = Transmon(\n",
    "        id=idx,\n",
    "        xy=XYChannel(\n",
    "            mixer=mixer_qubit, pi_amp=10e-3, pi_length=40, anharmonicity=200e6\n",
    "        ),\n",
    "        z=ZChannel(port=5),\n",
    "    )\n",
    "    quam.qubits.append(transmon)\n",
    "\n",
    "    # Create resonator components\n",
    "    local_oscillator_resonator = LocalOscillator(power=10, frequency=6e9)\n",
    "    quam.local_oscillators.append(local_oscillator_resonator)\n",
    "\n",
    "    resonator_mixer = Mixer(\n",
    "        id=f\"mixer_r{idx}\",\n",
    "        local_oscillator=local_oscillator_resonator,\n",
    "        port_I=3,\n",
    "        port_Q=4,\n",
    "        frequency_drive=5e9,\n",
    "    )\n",
    "\n",
    "    readout_resonator = ReadoutResonator(id=idx, mixer=resonator_mixer)\n",
    "    quam.resonators.append(readout_resonator)\n",
    "\n",
    "# Create analog inputs\n",
    "quam.analog_inputs.append(AnalogInput(port=1))\n",
    "quam.analog_inputs.append(AnalogInput(port=2))\n",
    "\n",
    "quam"
   ]
  },
  {
   "cell_type": "markdown",
   "metadata": {},
   "source": [
    "## Saving and loading quam"
   ]
  },
  {
   "cell_type": "markdown",
   "metadata": {},
   "source": [
    "We can then save quam to a json file:"
   ]
  },
  {
   "cell_type": "code",
   "execution_count": 16,
   "metadata": {},
   "outputs": [],
   "source": [
    "quam.save(root_folder / \"basic\" / \"state.json\")"
   ]
  },
  {
   "cell_type": "markdown",
   "metadata": {},
   "source": [
    "Finally, we can also load quam from the same json file"
   ]
  },
  {
   "cell_type": "code",
   "execution_count": 18,
   "metadata": {},
   "outputs": [],
   "source": [
    "loaded_quam = QuAM.load(root_folder / \"basic\" / \"state.json\")"
   ]
  },
  {
   "cell_type": "markdown",
   "metadata": {},
   "source": [
    "Importantly, the `state.json` file only describes how QuAM is structured, and how the different QuAM components should be initialized. The components themselves are defined in their respective classes."
   ]
  },
  {
   "cell_type": "markdown",
   "metadata": {},
   "source": [
    "## Generating QUA config"
   ]
  },
  {
   "cell_type": "markdown",
   "metadata": {},
   "source": [
    "We can also generate the qua config from quam. This recursively calls `QuamComponent.apply_to_config()` on all quam components."
   ]
  },
  {
   "cell_type": "code",
   "execution_count": 19,
   "metadata": {},
   "outputs": [],
   "source": [
    "qua_config = quam.build_config()\n",
    "json.dump(qua_config, open(root_folder / \"basic\" / \"qua_config.json\", \"w\"), indent=2)"
   ]
  },
  {
   "cell_type": "code",
   "execution_count": 7,
   "metadata": {},
   "outputs": [
    {
     "data": {
      "text/plain": [
       "PosixPath('output/basic/qua_config.json')"
      ]
     },
     "execution_count": 7,
     "metadata": {},
     "output_type": "execute_result"
    }
   ],
   "source": [
    "root_folder / \"basic\" / \"qua_config.json\""
   ]
  },
  {
   "cell_type": "markdown",
   "metadata": {},
   "source": [
    "# Quam using references"
   ]
  },
  {
   "cell_type": "markdown",
   "metadata": {},
   "source": [
    "QuAM allows values to reference another part of QuAM by setting its value to a string starting with a colon: `\":path.to.referenced.value\"`.\n",
    "\n",
    "As an example why this is useful, we previously hardcoded all output ports. However, grouping everything at a top-level `\"wiring\"`` makes more sense, so we can have all output ports reference to it.\n",
    "\n",
    "Below we also add several more references"
   ]
  },
  {
   "cell_type": "code",
   "execution_count": 22,
   "metadata": {},
   "outputs": [],
   "source": [
    "quam = QuAM()\n",
    "quam.wiring = {\n",
    "    \"qubits\": [{\"port_I\": 5 * k, \"port_Q\": 5 * k + 1, \"port_Z\": 5 * k + 2} for k in range(num_qubits)],\n",
    "    \"resonators\": [\n",
    "        {\"port_I\": 5 * k + 3, \"port_Q\": 5 * k + 4} for k in range(num_qubits)\n",
    "    ],\n",
    "}\n",
    "\n",
    "for idx in range(num_qubits):\n",
    "    # Create qubit components\n",
    "    local_oscillator_qubit = LocalOscillator(power=10, frequency=6e9)\n",
    "    quam.local_oscillators.append(local_oscillator_qubit)\n",
    "\n",
    "    mixer_qubit = Mixer(\n",
    "        id=f\"mixer_q{idx}\",\n",
    "        local_oscillator=f\":local_oscillators[{idx}]\",\n",
    "        port_I=f\":wiring.qubits[{idx}].port_I\",\n",
    "        port_Q=f\":wiring.qubits[{idx}].port_Q\",\n",
    "        frequency_drive=f\":qubits[{idx}].frequency_01\",\n",
    "    )\n",
    "    quam.mixers.append(mixer_qubit)  # TODO fix with reference\n",
    "\n",
    "    transmon = Transmon(\n",
    "        id=idx,\n",
    "        xy=XYChannel(\n",
    "            mixer=f\":mixers[{2*idx}]\", pi_amp=10e-3, pi_length=40, anharmonicity=200e6\n",
    "        ),\n",
    "        z=ZChannel(port=f\":wiring.qubits[{idx}].port_Z\"),\n",
    "        frequency_01=6.1e9,\n",
    "    )\n",
    "    quam.qubits.append(transmon)\n",
    "\n",
    "    # Create resonator components\n",
    "    local_oscillator_resonator = LocalOscillator(power=10, frequency=6e9)\n",
    "    quam.local_oscillators.append(local_oscillator_resonator)\n",
    "\n",
    "    resonator_mixer = Mixer(\n",
    "        id=f\"mixer_r{idx}\",\n",
    "        local_oscillator=f\":local_oscillators[{idx}]\",\n",
    "        port_I=f\":wiring.resonators[{idx}].port_I\",\n",
    "        port_Q=f\":wiring.resonators[{idx}].port_Q\",\n",
    "        frequency_drive=f\":resonators[{idx}].frequency_opt\",\n",
    "    )\n",
    "    quam.mixers.append(resonator_mixer)\n",
    "\n",
    "    readout_resonator = ReadoutResonator(\n",
    "        id=idx, mixer=f\":mixers[{2*idx+1}]\", frequency_opt=5.9e9\n",
    "    )\n",
    "    quam.resonators.append(readout_resonator)\n",
    "\n",
    "# Create analog inputs\n",
    "quam.analog_inputs.append(AnalogInput(port=1))\n",
    "quam.analog_inputs.append(AnalogInput(port=2))"
   ]
  },
  {
   "cell_type": "markdown",
   "metadata": {},
   "source": [
    "We again save quam and the QUA config. The QUA config is identical to previous, but QuAM has changed significantly"
   ]
  },
  {
   "cell_type": "code",
   "execution_count": 21,
   "metadata": {},
   "outputs": [],
   "source": [
    "quam.save(root_folder / \"referenced\" / \"state.json\")"
   ]
  },
  {
   "cell_type": "code",
   "execution_count": 26,
   "metadata": {},
   "outputs": [],
   "source": [
    "qua_config = quam.build_config()\n",
    "json.dump(qua_config, open(root_folder / \"referenced\" / \"qua_config.json\", \"w\"), indent=2)"
   ]
  },
  {
   "cell_type": "markdown",
   "metadata": {},
   "source": [
    "## Separating QuAM into multiple files"
   ]
  },
  {
   "cell_type": "markdown",
   "metadata": {},
   "source": [
    "Finally, we can also separate parts of QuAM to be placed into a separate file.\n",
    "This can be especially useful when combined with referencing because we can now have a separate file dedicated to the wiring of the experiment.\n",
    "\n",
    "Here we point quam to a folder instead of a json file, and we specify that `\"wiring\"` should go to a separate `wiring.json` file in that folder:"
   ]
  },
  {
   "cell_type": "code",
   "execution_count": 27,
   "metadata": {},
   "outputs": [],
   "source": [
    "quam.save(root_folder / \"referenced_multifile\" / \"quam\", content_mapping={\"wiring.json\": [\"wiring\"]})"
   ]
  },
  {
   "cell_type": "markdown",
   "metadata": {},
   "source": [
    "It can subseuently be loaded as usual"
   ]
  },
  {
   "cell_type": "code",
   "execution_count": 12,
   "metadata": {},
   "outputs": [],
   "source": [
    "quam = QuAM.load(root_folder / \"referenced_multifile\" / \"quam\")"
   ]
  },
  {
   "cell_type": "markdown",
   "metadata": {},
   "source": [
    "Separating QuAM into multiple files allows the user to revert back to a previous QuAM but keep some parts the same.\n",
    "For example, the user may want to revert all experimental settings, but the wiring of the setup should of course not change."
   ]
  }
 ],
 "metadata": {
  "kernelspec": {
   "display_name": "QuAM",
   "language": "python",
   "name": "python3"
  },
  "language_info": {
   "codemirror_mode": {
    "name": "ipython",
    "version": 3
   },
   "file_extension": ".py",
   "mimetype": "text/x-python",
   "name": "python",
   "nbconvert_exporter": "python",
   "pygments_lexer": "ipython3",
   "version": "3.11.4"
  },
  "orig_nbformat": 4
 },
 "nbformat": 4,
 "nbformat_minor": 2
}
