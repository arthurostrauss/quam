{
 "cells": [
  {
   "cell_type": "code",
   "execution_count": 16,
   "metadata": {},
   "outputs": [],
   "source": [
    "import json\n",
    "from quam_components.components import *\n",
    "\n",
    "from pathlib import Path\n",
    "root_folder = Path(\"./output\")\n",
    "root_folder.mkdir(exist_ok=True)"
   ]
  },
  {
   "cell_type": "code",
   "execution_count": 17,
   "metadata": {},
   "outputs": [],
   "source": [
    "num_qubits = 3\n",
    "\n",
    "quam = QuAM()\n",
    "\n",
    "for idx in range(num_qubits):\n",
    "    # Create qubit components\n",
    "    local_oscillator_qubit = LocalOscillator(power=10, frequency=6e9)\n",
    "    quam.local_oscillators.append(local_oscillator_qubit)\n",
    "\n",
    "    mixer_qubit = Mixer(\n",
    "        id=f\"mixer_q{idx}\",\n",
    "        local_oscillator=local_oscillator_qubit,\n",
    "        port_I=1,\n",
    "        port_Q=2,\n",
    "        frequency_drive=5e9,\n",
    "    )\n",
    "\n",
    "    transmon = Transmon(\n",
    "        id=idx,\n",
    "        xy=XYChannel(\n",
    "            mixer=mixer_qubit, pi_amp=10e-3, pi_length=40, anharmonicity=200e6\n",
    "        ),\n",
    "        z=ZChannel(port=5),\n",
    "    )\n",
    "    quam.qubits.append(transmon)\n",
    "\n",
    "    # Create resonator components\n",
    "    local_oscillator_resonator = LocalOscillator(power=10, frequency=6e9)\n",
    "    quam.local_oscillators.append(local_oscillator_resonator)\n",
    "\n",
    "    resonator_mixer = Mixer(\n",
    "        id=f\"mixer_r{idx}\",\n",
    "        local_oscillator=local_oscillator_resonator,\n",
    "        port_I=3,\n",
    "        port_Q=4,\n",
    "        frequency_drive=5e9,\n",
    "    )\n",
    "\n",
    "    readout_resonator = ReadoutResonator(id=idx, mixer=resonator_mixer)\n",
    "    quam.resonators.append(readout_resonator)"
   ]
  },
  {
   "cell_type": "code",
   "execution_count": 18,
   "metadata": {},
   "outputs": [],
   "source": [
    "quam.save(root_folder / \"quam.json\")"
   ]
  },
  {
   "cell_type": "code",
   "execution_count": 20,
   "metadata": {},
   "outputs": [],
   "source": [
    "qua_config = quam.build_config()\n",
    "json.dump(qua_config, open(root_folder / \"qua_config.json\", \"w\"), indent=2)"
   ]
  },
  {
   "cell_type": "code",
   "execution_count": null,
   "metadata": {},
   "outputs": [],
   "source": []
  }
 ],
 "metadata": {
  "kernelspec": {
   "display_name": "QuAM",
   "language": "python",
   "name": "python3"
  },
  "language_info": {
   "codemirror_mode": {
    "name": "ipython",
    "version": 3
   },
   "file_extension": ".py",
   "mimetype": "text/x-python",
   "name": "python",
   "nbconvert_exporter": "python",
   "pygments_lexer": "ipython3",
   "version": "3.11.4"
  },
  "orig_nbformat": 4
 },
 "nbformat": 4,
 "nbformat_minor": 2
}
