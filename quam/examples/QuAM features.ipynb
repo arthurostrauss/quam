{
 "cells": [
  {
   "cell_type": "code",
   "execution_count": 1,
   "metadata": {},
   "outputs": [
    {
     "name": "stdout",
     "output_type": "stream",
     "text": [
      "2023-09-25 13:34:12,923 - qm - INFO     - Starting session: abf92272-c7ae-49af-bb0b-50e8c77a4011\n"
     ]
    }
   ],
   "source": [
    "import json\n",
    "from quam.components import *\n",
    "\n",
    "from pathlib import Path\n",
    "root_folder = Path(\"./output\")\n",
    "root_folder.mkdir(exist_ok=True)\n",
    "for key in [\"basic\", \"referenced\", \"referenced_multifile\"]:\n",
    "    (root_folder / key).mkdir(exist_ok=True)"
   ]
  },
  {
   "cell_type": "markdown",
   "metadata": {},
   "source": [
    "# Creating QuAM from scratch"
   ]
  },
  {
   "cell_type": "markdown",
   "metadata": {},
   "source": [
    "The user defines his own QuAM by inheriting from `QuamRoot` (see `components/quam.py`).\n",
    "Once defined, it can be instantiated as follows:"
   ]
  },
  {
   "cell_type": "code",
   "execution_count": 2,
   "metadata": {},
   "outputs": [
    {
     "data": {
      "text/plain": [
       "QuAM(mixers=[], qubits=[], resonators=[], local_oscillators=[], analog_inputs=[], wiring=QuamDict())"
      ]
     },
     "execution_count": 2,
     "metadata": {},
     "output_type": "execute_result"
    }
   ],
   "source": [
    "quam = QuAM()\n",
    "quam"
   ]
  },
  {
   "cell_type": "markdown",
   "metadata": {},
   "source": [
    "We see that five attributes are defined in quam, all empty so far. We can begin populating it with different `QuamComponent`s"
   ]
  },
  {
   "cell_type": "code",
   "execution_count": 3,
   "metadata": {},
   "outputs": [
    {
     "data": {
      "text/plain": [
       "QuAM(mixers=[], qubits=[Transmon(id=0, frequency=None, xy=IQChannel(pulses=QuamDict(), mixer=Mixer(id='mixer_q0', local_oscillator=LocalOscillator(power=10, frequency=6000000000.0), port_I=1, port_Q=2, frequency_drive=5000000000.0, offset_I=0, offset_Q=0, correction_gain=0, correction_phase=0, controller='con1')), z=SingleChannel(pulses=QuamDict(), port=5, filter_fir_taps=None, filter_iir_taps=None, offset=0, controller='con1')), Transmon(id=1, frequency=None, xy=IQChannel(pulses=QuamDict(), mixer=Mixer(id='mixer_q1', local_oscillator=LocalOscillator(power=10, frequency=6000000000.0), port_I=1, port_Q=2, frequency_drive=5000000000.0, offset_I=0, offset_Q=0, correction_gain=0, correction_phase=0, controller='con1')), z=SingleChannel(pulses=QuamDict(), port=5, filter_fir_taps=None, filter_iir_taps=None, offset=0, controller='con1'))], resonators=[ReadoutResonator(pulses=QuamDict(), id=0, mixer=Mixer(id='mixer_r0', local_oscillator=LocalOscillator(power=10, frequency=6000000000.0), port_I=3, port_Q=4, frequency_drive=5000000000.0, offset_I=0, offset_Q=0, correction_gain=0, correction_phase=0, controller='con1'), frequency=None, time_of_flight=24, smearing=0, controller='con1'), ReadoutResonator(pulses=QuamDict(), id=1, mixer=Mixer(id='mixer_r1', local_oscillator=LocalOscillator(power=10, frequency=6000000000.0), port_I=3, port_Q=4, frequency_drive=5000000000.0, offset_I=0, offset_Q=0, correction_gain=0, correction_phase=0, controller='con1'), frequency=None, time_of_flight=24, smearing=0, controller='con1')], local_oscillators=[LocalOscillator(power=10, frequency=6000000000.0), LocalOscillator(power=10, frequency=6000000000.0), LocalOscillator(power=10, frequency=6000000000.0), LocalOscillator(power=10, frequency=6000000000.0)], analog_inputs=[AnalogInput(port=1, offset=0, gain=0, controller='con1'), AnalogInput(port=2, offset=0, gain=0, controller='con1')], wiring=QuamDict())"
      ]
     },
     "execution_count": 3,
     "metadata": {},
     "output_type": "execute_result"
    }
   ],
   "source": [
    "num_qubits = 2\n",
    "for idx in range(num_qubits):\n",
    "    # Create qubit components\n",
    "    local_oscillator_qubit = LocalOscillator(power=10, frequency=6e9)\n",
    "    quam.local_oscillators.append(local_oscillator_qubit)\n",
    "\n",
    "    mixer_qubit = Mixer(\n",
    "        id=f\"mixer_q{idx}\",\n",
    "        local_oscillator=local_oscillator_qubit,\n",
    "        port_I=1,\n",
    "        port_Q=2,\n",
    "        frequency_drive=5e9,\n",
    "    )\n",
    "\n",
    "    transmon = Transmon(\n",
    "        id=idx,\n",
    "        xy=IQChannel(\n",
    "            mixer=mixer_qubit\n",
    "        ),\n",
    "        z=SingleChannel(port=5),\n",
    "    )\n",
    "    quam.qubits.append(transmon)\n",
    "\n",
    "    # Create resonator components\n",
    "    local_oscillator_resonator = LocalOscillator(power=10, frequency=6e9)\n",
    "    quam.local_oscillators.append(local_oscillator_resonator)\n",
    "\n",
    "    resonator_mixer = Mixer(\n",
    "        id=f\"mixer_r{idx}\",\n",
    "        local_oscillator=local_oscillator_resonator,\n",
    "        port_I=3,\n",
    "        port_Q=4,\n",
    "        frequency_drive=5e9,\n",
    "    )\n",
    "\n",
    "    readout_resonator = ReadoutResonator(id=idx, mixer=resonator_mixer)\n",
    "    quam.resonators.append(readout_resonator)\n",
    "\n",
    "# Create analog inputs\n",
    "quam.analog_inputs.append(AnalogInput(port=1))\n",
    "quam.analog_inputs.append(AnalogInput(port=2))\n",
    "\n",
    "quam"
   ]
  },
  {
   "cell_type": "markdown",
   "metadata": {},
   "source": [
    "## Saving and loading quam"
   ]
  },
  {
   "cell_type": "markdown",
   "metadata": {},
   "source": [
    "We can then save quam to a json file:"
   ]
  },
  {
   "cell_type": "code",
   "execution_count": 4,
   "metadata": {},
   "outputs": [],
   "source": [
    "quam.save(root_folder / \"basic\" / \"state.json\")"
   ]
  },
  {
   "cell_type": "markdown",
   "metadata": {},
   "source": [
    "Finally, we can also load quam from the same json file"
   ]
  },
  {
   "cell_type": "code",
   "execution_count": 5,
   "metadata": {},
   "outputs": [],
   "source": [
    "loaded_quam = QuAM.load(root_folder / \"basic\" / \"state.json\")"
   ]
  },
  {
   "cell_type": "markdown",
   "metadata": {},
   "source": [
    "Importantly, the `state.json` file only describes how QuAM is structured, and how the different QuAM components should be initialized. The components themselves are defined in their respective classes."
   ]
  },
  {
   "cell_type": "markdown",
   "metadata": {},
   "source": [
    "## Generating QUA config"
   ]
  },
  {
   "cell_type": "markdown",
   "metadata": {},
   "source": [
    "We can also generate the qua config from quam. This recursively calls `QuamComponent.apply_to_config()` on all quam components."
   ]
  },
  {
   "cell_type": "code",
   "execution_count": 6,
   "metadata": {},
   "outputs": [],
   "source": [
    "qua_config = quam.generate_config()\n",
    "json.dump(qua_config, open(root_folder / \"basic\" / \"qua_config.json\", \"w\"), indent=2)"
   ]
  },
  {
   "cell_type": "code",
   "execution_count": 7,
   "metadata": {},
   "outputs": [
    {
     "data": {
      "text/plain": [
       "PosixPath('output/basic/qua_config.json')"
      ]
     },
     "execution_count": 7,
     "metadata": {},
     "output_type": "execute_result"
    }
   ],
   "source": [
    "root_folder / \"basic\" / \"qua_config.json\""
   ]
  },
  {
   "cell_type": "markdown",
   "metadata": {},
   "source": [
    "# Quam using references"
   ]
  },
  {
   "cell_type": "markdown",
   "metadata": {},
   "source": [
    "QuAM allows values to reference another part of QuAM by setting its value to a string starting with a colon: `\":path.to.referenced.value\"`.\n",
    "\n",
    "As an example why this is useful, we previously hardcoded all output ports. However, grouping everything at a top-level `\"wiring\"`` makes more sense, so we can have all output ports reference to it.\n",
    "\n",
    "Below we also add several more references"
   ]
  },
  {
   "cell_type": "code",
   "execution_count": 8,
   "metadata": {},
   "outputs": [],
   "source": [
    "num_qubits = 2\n",
    "quam = QuAM()\n",
    "quam.wiring = {\n",
    "    \"qubits\": [\n",
    "        {\"port_I\": 5 * k + 1, \"port_Q\": 5 * k + 2, \"port_Z\": 5 * k + 3}\n",
    "        for k in range(num_qubits)\n",
    "    ],\n",
    "    \"resonators\": [\n",
    "        {\"port_I\": 5 * k + 4, \"port_Q\": 5 * k + 5} for k in range(num_qubits)\n",
    "    ],\n",
    "}\n",
    "\n",
    "for idx in range(num_qubits):\n",
    "    # Create qubit components\n",
    "    local_oscillator_qubit = LocalOscillator(power=10, frequency=6e9)\n",
    "    quam.local_oscillators.append(local_oscillator_qubit)\n",
    "\n",
    "    mixer_qubit = Mixer(\n",
    "        id=f\"mixer_q{idx}\",\n",
    "        local_oscillator=f\":local_oscillators[{idx}]\",\n",
    "        port_I=f\":wiring.qubits[{idx}].port_I\",\n",
    "        port_Q=f\":wiring.qubits[{idx}].port_Q\",\n",
    "        frequency_drive=f\":qubits[{idx}].frequency\",\n",
    "    )\n",
    "    quam.mixers.append(mixer_qubit)\n",
    "\n",
    "    transmon = Transmon(\n",
    "        id=idx,\n",
    "        xy=IQChannel(mixer=f\":mixers[{2*idx}]\"),\n",
    "        z=SingleChannel(port=f\":wiring.qubits[{idx}].port_Z\"),\n",
    "        frequency=6.1e9,\n",
    "    )\n",
    "    quam.qubits.append(transmon)\n",
    "\n",
    "    # Create resonator components\n",
    "    local_oscillator_resonator = LocalOscillator(power=10, frequency=6e9)\n",
    "    quam.local_oscillators.append(local_oscillator_resonator)\n",
    "\n",
    "    resonator_mixer = Mixer(\n",
    "        id=f\"mixer_r{idx}\",\n",
    "        local_oscillator=f\":local_oscillators[{idx}]\",\n",
    "        port_I=f\":wiring.resonators[{idx}].port_I\",\n",
    "        port_Q=f\":wiring.resonators[{idx}].port_Q\",\n",
    "        frequency_drive=f\":resonators[{idx}].frequency\",\n",
    "    )\n",
    "    quam.mixers.append(resonator_mixer)\n",
    "\n",
    "    readout_resonator = ReadoutResonator(\n",
    "        id=idx,\n",
    "        mixer=f\":mixers[{2*idx+1}]\",\n",
    "        frequency=5.9e9,\n",
    "    )\n",
    "    quam.resonators.append(readout_resonator)\n",
    "\n",
    "# Create analog inputs\n",
    "quam.analog_inputs.append(AnalogInput(port=1))\n",
    "quam.analog_inputs.append(AnalogInput(port=2))"
   ]
  },
  {
   "cell_type": "markdown",
   "metadata": {},
   "source": [
    "We again save quam and the QUA config. The QUA config is identical to previous, but QuAM has changed significantly"
   ]
  },
  {
   "cell_type": "code",
   "execution_count": null,
   "metadata": {},
   "outputs": [],
   "source": [
    "quam.save(root_folder / \"referenced\" / \"state.json\")"
   ]
  },
  {
   "cell_type": "code",
   "execution_count": null,
   "metadata": {},
   "outputs": [],
   "source": [
    "qua_config = quam.generate_config()\n",
    "json.dump(qua_config, open(root_folder / \"referenced\" / \"qua_config.json\", \"w\"), indent=2)"
   ]
  },
  {
   "cell_type": "markdown",
   "metadata": {},
   "source": [
    "## Separating QuAM into multiple files"
   ]
  },
  {
   "cell_type": "markdown",
   "metadata": {},
   "source": [
    "Finally, we can also separate parts of QuAM to be placed into a separate file.\n",
    "This can be especially useful when combined with referencing because we can now have a separate file dedicated to the wiring of the experiment.\n",
    "\n",
    "Here we point quam to a folder instead of a json file, and we specify that `\"wiring\"` should go to a separate `wiring.json` file in that folder:"
   ]
  },
  {
   "cell_type": "code",
   "execution_count": null,
   "metadata": {},
   "outputs": [],
   "source": [
    "quam.save(root_folder / \"referenced_multifile\" / \"quam\", content_mapping={\"wiring.json\": [\"wiring\"]})"
   ]
  },
  {
   "cell_type": "markdown",
   "metadata": {},
   "source": [
    "It can subseuently be loaded as usual"
   ]
  },
  {
   "cell_type": "code",
   "execution_count": null,
   "metadata": {},
   "outputs": [],
   "source": [
    "quam = QuAM.load(root_folder / \"referenced_multifile\" / \"quam\")"
   ]
  },
  {
   "cell_type": "markdown",
   "metadata": {},
   "source": [
    "Separating QuAM into multiple files allows the user to revert back to a previous QuAM but keep some parts the same.\n",
    "For example, the user may want to revert all experimental settings, but the wiring of the setup should of course not change."
   ]
  }
 ],
 "metadata": {
  "kernelspec": {
   "display_name": "QuAM",
   "language": "python",
   "name": "python3"
  },
  "language_info": {
   "codemirror_mode": {
    "name": "ipython",
    "version": 3
   },
   "file_extension": ".py",
   "mimetype": "text/x-python",
   "name": "python",
   "nbconvert_exporter": "python",
   "pygments_lexer": "ipython3",
   "version": "3.11.5"
  },
  "orig_nbformat": 4
 },
 "nbformat": 4,
 "nbformat_minor": 2
}
